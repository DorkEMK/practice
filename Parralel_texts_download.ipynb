{
 "cells": [
  {
   "cell_type": "code",
   "execution_count": 1,
   "metadata": {},
   "outputs": [],
   "source": [
    "import os\n",
    "import sys\n",
    "import requests\n",
    "from bs4 import BeautifulSoup\n",
    "import re\n",
    "import pandas as pd\n",
    "import gc\n",
    "import csv"
   ]
  },
  {
   "cell_type": "markdown",
   "metadata": {},
   "source": [
    "### Книги"
   ]
  },
  {
   "cell_type": "code",
   "execution_count": 2,
   "metadata": {},
   "outputs": [],
   "source": [
    "source = 'http://studyenglishwords.com'"
   ]
  },
  {
   "cell_type": "code",
   "execution_count": null,
   "metadata": {},
   "outputs": [],
   "source": [
    "page = BeautifulSoup(requests.get(source+'/result/books').text, \"html5lib\")"
   ]
  },
  {
   "cell_type": "code",
   "execution_count": null,
   "metadata": {},
   "outputs": [],
   "source": [
    "books = page.find(\"table\").find_all(\"a\")"
   ]
  },
  {
   "cell_type": "code",
   "execution_count": null,
   "metadata": {},
   "outputs": [],
   "source": [
    "# русско- и франкоязычные писатели\n",
    "irrelevant = [0,1,9,32,44,45,53,54,56,66,70,78,84,85,86,91,92,94,96,98,99]"
   ]
  },
  {
   "cell_type": "code",
   "execution_count": null,
   "metadata": {},
   "outputs": [],
   "source": [
    "book_link = {}\n",
    "for i in range(len(books)):\n",
    "    if i not in irrelevant and i > 80:\n",
    "        book_link[books[i].text] = books[i].get('href')"
   ]
  },
  {
   "cell_type": "code",
   "execution_count": 3,
   "metadata": {},
   "outputs": [],
   "source": [
    "def replace(string, substitutions):\n",
    "\n",
    "    substrings = sorted(substitutions, key=len, reverse=True)\n",
    "    regex = re.compile('|'.join(map(re.escape, substrings)))\n",
    "    return regex.sub(lambda match: substitutions[match.group(0)], string)"
   ]
  },
  {
   "cell_type": "code",
   "execution_count": 4,
   "metadata": {},
   "outputs": [],
   "source": [
    "# извлекаем со страницы данные и сохраняем в df через список\n",
    "def save_page(page, df, substitution):\n",
    "    en = [replace(sent.find(\"span\").text, substitutions) for sent in page.find_all(\"div\", {\"class\":\"left\"})]\n",
    "    ru = [replace(sent.find(\"span\").text, substitutions) for sent in bookpage.find_all(\"div\", {\"class\":\"right\"})]\n",
    "    start = len(df)\n",
    "    for i in range(len(en)):\n",
    "        df.loc[start+i] = [en[i], ru[i]]"
   ]
  },
  {
   "cell_type": "code",
   "execution_count": 11,
   "metadata": {},
   "outputs": [],
   "source": [
    "columns = ['en', 'ru']\n",
    "substitutions = {'\\n':' ', '\\t':' '}"
   ]
  },
  {
   "cell_type": "code",
   "execution_count": null,
   "metadata": {},
   "outputs": [],
   "source": [
    "for book in book_link:\n",
    "    # открыть книгу\n",
    "    bookpage = BeautifulSoup(requests.get(source+book_link[book]).text, \"html5lib\")\n",
    "    df = pd.DataFrame(columns=columns)\n",
    "    # пока есть страницы\n",
    "    while bookpage:\n",
    "        # сохраняем их в df\n",
    "        save_page(bookpage, df)\n",
    "        # получаем следующую страницу\n",
    "        next_page = bookpage.find(\"span\", {\"class\":\"next\"}).find(\"a\")\n",
    "        if next_page:\n",
    "            bookpage = BeautifulSoup(requests.get(source+book_link[book]+next_page.get(\"href\")).text, \"html5lib\")\n",
    "        else:\n",
    "            bookpage = False\n",
    "    # сохранить датафрейм\n",
    "    df.to_csv(book+'.tsv', sep = '\\t')\n",
    "    print(book+' is saved')    \n",
    "    # чтобы точно очистить память от датафрейма\n",
    "    del df\n",
    "    gc.collect()"
   ]
  },
  {
   "cell_type": "markdown",
   "metadata": {},
   "source": [
    "### Субтитры\n",
    "сразу токенизируем"
   ]
  },
  {
   "cell_type": "code",
   "execution_count": 5,
   "metadata": {},
   "outputs": [
    {
     "name": "stderr",
     "output_type": "stream",
     "text": [
      "[nltk_data] Downloading package stopwords to /home/lisa/nltk_data...\n",
      "[nltk_data]   Package stopwords is already up-to-date!\n"
     ]
    }
   ],
   "source": [
    "import nltk\n",
    "from nltk.corpus import stopwords\n",
    "nltk.download(\"stopwords\")\n",
    "punct = '!\"#$%&()*+,-./:;<=>?@[\\]^_`{|}~'"
   ]
  },
  {
   "cell_type": "code",
   "execution_count": 6,
   "metadata": {},
   "outputs": [],
   "source": [
    "def tokenize(text):\n",
    "    \n",
    "    words = [word.strip(punct) for word in text.split() if word != '']\n",
    "    words = [word for word in words if word]\n",
    "\n",
    "    return words"
   ]
  },
  {
   "cell_type": "code",
   "execution_count": 7,
   "metadata": {},
   "outputs": [],
   "source": [
    "# на двух страницах, проще вручную\n",
    "page_sub1 = BeautifulSoup(requests.get('https://studyenglishwords.com/browse?page=1&type=movie').text, \"html5lib\")\n",
    "page_sub2 = BeautifulSoup(requests.get('https://studyenglishwords.com/browse?page=2&type=movie').text, \"html5lib\")"
   ]
  },
  {
   "cell_type": "code",
   "execution_count": 8,
   "metadata": {},
   "outputs": [],
   "source": [
    "subs = page_sub1.find_all(\"a\", {\"class\":\"type-common type-movie\"})+page_sub2.find_all(\"a\", {\"class\":\"type-common type-movie\"})"
   ]
  },
  {
   "cell_type": "code",
   "execution_count": 9,
   "metadata": {},
   "outputs": [],
   "source": [
    "sub_link = {}\n",
    "for sub in subs:\n",
    "    sub_link[re.sub('/', '-', sub.text.strip())] = sub.get('href')"
   ]
  },
  {
   "cell_type": "code",
   "execution_count": 12,
   "metadata": {},
   "outputs": [
    {
     "name": "stdout",
     "output_type": "stream",
     "text": [
      "Храбрая сердцем - Brave (2012-06-21) is saved\n",
      "Шрэк - Shrek (2001-05-16) is saved\n",
      "Турист - The Tourist (2010-12-08) is saved\n",
      "Хранители - Watchmen (2009-03-05) is saved\n",
      "Убить Билла - Kill Bill: Vol. 1 (2003-10-10) is saved\n",
      "Рататуй - Ratatouille (2007-06-22) is saved\n",
      "Адвокат дьявола - The Devil's Advocate (1997-10-17) is saved\n",
      "Тупой и еще тупее - Dumb and Dumber (1994-12-16) is saved\n",
      "Леон - Léon (1994-09-14) is saved\n",
      "Звёздные войны: Эпизод 1 - Скрытая угроза - Star Wars: Episode I - The Phantom Menace (1999-05-19) is saved\n",
      "Пассажиры - Passengers (2016-12-21) is saved\n",
      "Аватар - Avatar (2009-12-18) is saved\n",
      "Сумерки. Сага. Затмение - The Twilight Saga: Eclipse (2010-06-23) is saved\n",
      "Пятьдесят оттенков серого - Fifty Shades of Grey (2015-02-11) is saved\n",
      "Голодные игры: Сойка-пересмешница. Часть I - The Hunger Games: Mockingjay - Part 1 (2014-11-18) is saved\n",
      "Голодные игры: И вспыхнет пламя - The Hunger Games: Catching Fire (2013-11-15) is saved\n",
      "Голодные игры - The Hunger Games (2012-03-12) is saved\n",
      "Американская история Х - American History X (1998-10-30) is saved\n",
      "Маска - The Mask (1994-07-29) is saved\n",
      "Простые сложности - It's Complicated (2009-12-25) is saved\n",
      "Начало - Inception (2010-07-16) is saved\n",
      "Монстро - Cloverfield (2008-01-15) is saved\n",
      "Неуязвимый - Unbreakable (2000-11-13) is saved\n",
      "Побег из Шоушенка - The Shawshank Redemption (1994-09-14) is saved\n",
      "Город ангелов - City of Angels (1998-03-11) is saved\n",
      "Дюна - Dune (1984-12-14) is saved\n",
      "New Moon - New Moon (2010-01-14) is saved\n",
      "12 Разгневанных мужчин - 12 Angry Men (1957-04-10) is saved\n",
      "Гарри Поттер и философский камень - Harry Potter and the Philosopher's Stone (2001-11-15) is saved\n",
      "Форсаж 4 - Fast & Furious (2009-04-03) is saved\n",
      "Король Лев - The Lion King (1994-06-23) is saved\n",
      "Интервью с вампиром - Interview with the Vampire (1994-11-11) is saved\n",
      "Бойцовский клуб - Fight Club (1999-10-14) is saved\n",
      "1+1 - Неприкасаемые - Intouchables (2011-11-02) is saved\n",
      "Гордость и предубеждение - Pride & Prejudice (2005-11-11) is saved\n",
      "Зеленая миля - The Green Mile (1999-12-05) is saved\n",
      "Терминатор 2: Судный день - Terminator 2: Judgment Day (1991-07-01) is saved\n",
      "Призрак оперы - The Phantom of the Opera (2004-12-22) is saved\n",
      "Перевозчик - The Transporter (2002-10-02) is saved\n",
      "Форрест Гамп - Forrest Gump (1994-06-22) is saved\n",
      "Гордость и предубеждение - Pride and Prejudice (1995-09-24) is saved\n",
      "Матрица - The Matrix (1999-03-30) is saved\n",
      "Сумерки - Twilight (2008-11-20) is saved\n",
      "Великий Гэтсби - The Great Gatsby (2013-05-10) is saved\n",
      "Вспомнить всё - Total Recall (1990-06-01) is saved\n"
     ]
    }
   ],
   "source": [
    " columns = ['en', 'ru']\n",
    "\n",
    "for sub in sub_link:\n",
    "    # открыть книгу\n",
    "    bookpage = BeautifulSoup(requests.get(source+sub_link[sub]).text, \"html5lib\")\n",
    "    df = pd.DataFrame(columns=columns)\n",
    "    # пока есть страницы\n",
    "    while bookpage:\n",
    "        # сохраняем их в df\n",
    "        save_page(bookpage, df, substitutions)\n",
    "        # получаем следующую страницу\n",
    "        next_page = bookpage.find(\"span\", {\"class\":\"next\"}).find(\"a\")\n",
    "        if next_page:\n",
    "            bookpage = BeautifulSoup(requests.get(source+sub_link[sub]+next_page.get(\"href\")).text, \"html5lib\")\n",
    "        else:\n",
    "            bookpage = False\n",
    "            \n",
    "    # добавляем столбец со списком токенов\n",
    "    df['ru_tokens'] = df['ru'].apply(tokenize)\n",
    "    \n",
    "    # сохранить датафрейм\n",
    "    df.to_csv(sub.replace(' ', '_')+'.tsv', sep = '\\t')\n",
    "    print(sub+' is saved')\n",
    "    \n",
    "    del df\n",
    "    gc.collect()"
   ]
  },
  {
   "cell_type": "code",
   "execution_count": null,
   "metadata": {},
   "outputs": [],
   "source": []
  }
 ],
 "metadata": {
  "kernelspec": {
   "display_name": "Python 3",
   "language": "python",
   "name": "python3"
  },
  "language_info": {
   "codemirror_mode": {
    "name": "ipython",
    "version": 3
   },
   "file_extension": ".py",
   "mimetype": "text/x-python",
   "name": "python",
   "nbconvert_exporter": "python",
   "pygments_lexer": "ipython3",
   "version": "3.7.3"
  }
 },
 "nbformat": 4,
 "nbformat_minor": 2
}
