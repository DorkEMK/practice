{
 "cells": [
  {
   "cell_type": "code",
   "execution_count": 1,
   "metadata": {},
   "outputs": [],
   "source": [
    "import os\n",
    "import sys\n",
    "import requests\n",
    "from bs4 import BeautifulSoup\n",
    "import re\n",
    "import pandas as pd\n",
    "import gc\n",
    "import csv"
   ]
  },
  {
   "cell_type": "code",
   "execution_count": 2,
   "metadata": {},
   "outputs": [
    {
     "name": "stderr",
     "output_type": "stream",
     "text": [
      "[nltk_data] Downloading package stopwords to /home/lisa/nltk_data...\n",
      "[nltk_data]   Package stopwords is already up-to-date!\n"
     ]
    }
   ],
   "source": [
    "import nltk\n",
    "from nltk.corpus import stopwords\n",
    "nltk.download(\"stopwords\")\n",
    "punct = '!\"#$%&()*+,-./:;<=>?@[\\]^_`{|}~'"
   ]
  },
  {
   "cell_type": "code",
   "execution_count": 3,
   "metadata": {},
   "outputs": [],
   "source": [
    "def tokenize(text):\n",
    "    \n",
    "    words = [word.strip(punct) for word in text.split() if word != '']\n",
    "    words = [word for word in words if word]\n",
    "\n",
    "    return words"
   ]
  },
  {
   "cell_type": "code",
   "execution_count": 4,
   "metadata": {},
   "outputs": [
    {
     "name": "stdout",
     "output_type": "stream",
     "text": [
      "Город_ангелов_-_City_of_Angels_(1998-03-11).tsv\n",
      "Адвокат_дьявола_-_The_Devil's_Advocate_(1997-10-17).tsv\n",
      "Сумерки_-_Twilight_(2008-11-20).tsv\n",
      "Пятьдесят_оттенков_серого_-_Fifty_Shades_of_Grey_(2015-02-11).tsv\n",
      "Маска_-_The_Mask_(1994-07-29).tsv\n",
      "Матрица_-_The_Matrix_(1999-03-30).tsv\n",
      "Голодные_игры:_И_вспыхнет_пламя_-_The_Hunger_Games:_Catching_Fire_(2013-11-15).tsv\n",
      "Хранители_-_Watchmen_(2009-03-05).tsv\n",
      "Звёздные_войны:_Эпизод_1_-_Скрытая_угроза_-_Star_Wars:_Episode_I_-_The_Phantom_Menace_(1999-05-19).tsv\n",
      "New_Moon_-_New_Moon_(2010-01-14).tsv\n",
      "Терминатор_2:_Судный_день_-_Terminator_2:_Judgment_Day_(1991-07-01).tsv\n",
      "Гордость_и_предубеждение_-_Pride_&_Prejudice_(2005-11-11).tsv\n",
      "Побег_из_Шоушенка_-_The_Shawshank_Redemption_(1994-09-14).tsv\n",
      "Монстро_-_Cloverfield_(2008-01-15).tsv\n",
      "Аватар_-_Avatar_(2009-12-18).tsv\n",
      "Убить_Билла_-_Kill_Bill:_Vol._1_(2003-10-10).tsv\n",
      "Форсаж_4_-_Fast_&_Furious_(2009-04-03).tsv\n",
      "Турист_-_The_Tourist_(2010-12-08).tsv\n",
      "Голодные_игры_-_The_Hunger_Games_(2012-03-12).tsv\n",
      "Американская_история_Х_-_American_History_X_(1998-10-30).tsv\n",
      "Сумерки._Сага._Затмение_-_The_Twilight_Saga:_Eclipse_(2010-06-23).tsv\n",
      "Простые_сложности_-_It's_Complicated_(2009-12-25).tsv\n",
      "Пассажиры_-_Passengers_(2016-12-21).tsv\n",
      "Вспомнить_всё_-_Total_Recall_(1990-06-01).tsv\n",
      "дотокенизировать.ipynb\n",
      "Тупой_и_еще_тупее_-_Dumb_and_Dumber_(1994-12-16).tsv\n",
      "Перевозчик_-_The_Transporter_(2002-10-02).tsv\n",
      "Гарри_Поттер_и_философский_камень_-_Harry_Potter_and_the_Philosopher's_Stone_(2001-11-15).tsv\n",
      "Великий_Гэтсби_-_The_Great_Gatsby_(2013-05-10).tsv\n",
      "Шрэк_-_Shrek_(2001-05-16).tsv\n",
      "Король_Лев_-_The_Lion_King_(1994-06-23).tsv\n",
      "Леон_-_Léon_(1994-09-14).tsv\n",
      "Призрак_оперы_-_The_Phantom_of_the_Opera_(2004-12-22).tsv\n",
      "Рататуй_-_Ratatouille_(2007-06-22).tsv\n",
      "Храбрая_сердцем_-_Brave_(2012-06-21).tsv\n",
      "Форрест_Гамп_-_Forrest_Gump_(1994-06-22).tsv\n",
      "Дюна_-_Dune_(1984-12-14).tsv\n",
      "Голодные_игры:_Сойка-пересмешница._Часть_I_-_The_Hunger_Games:_Mockingjay_-_Part_1_(2014-11-18).tsv\n",
      "Гордость_и_предубеждение_-_Pride_and_Prejudice_(1995-09-24).tsv\n",
      "Интервью_с_вампиром_-_Interview_with_the_Vampire_(1994-11-11).tsv\n",
      "Неуязвимый_-_Unbreakable_(2000-11-13).tsv\n",
      "Бойцовский_клуб_-_Fight_Club_(1999-10-14).tsv\n",
      "Начало_-_Inception_(2010-07-16).tsv\n",
      ".ipynb_checkpoints\n",
      "Зеленая_миля_-_The_Green_Mile_(1999-12-05).tsv\n"
     ]
    }
   ],
   "source": [
    "for file in os.listdir():\n",
    "    print(file)\n",
    "    if file.endswith(\".tsv\"):\n",
    "        df = pd.read_csv(file, sep = '\\t', encoding = 'UTF8', error_bad_lines=False, index_col=0)\n",
    "        \n",
    "\n",
    "        df['en_tokens'] = df['en'].apply(tokenize)\n",
    "        \n",
    "        df.to_csv(file, sep = '\\t')\n",
    "        \n",
    "        # не оставляем df в памяти\n",
    "        del df\n",
    "        gc.collect()"
   ]
  },
  {
   "cell_type": "code",
   "execution_count": null,
   "metadata": {},
   "outputs": [],
   "source": []
  }
 ],
 "metadata": {
  "kernelspec": {
   "display_name": "Python 3",
   "language": "python",
   "name": "python3"
  },
  "language_info": {
   "codemirror_mode": {
    "name": "ipython",
    "version": 3
   },
   "file_extension": ".py",
   "mimetype": "text/x-python",
   "name": "python",
   "nbconvert_exporter": "python",
   "pygments_lexer": "ipython3",
   "version": "3.7.3"
  }
 },
 "nbformat": 4,
 "nbformat_minor": 2
}
